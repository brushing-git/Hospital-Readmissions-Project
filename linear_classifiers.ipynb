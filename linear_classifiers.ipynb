{
  "nbformat": 4,
  "nbformat_minor": 0,
  "metadata": {
    "colab": {
      "provenance": [],
      "authorship_tag": "ABX9TyM1SSLgkRmBonsXjlr4eGAm",
      "include_colab_link": true
    },
    "kernelspec": {
      "name": "python3",
      "display_name": "Python 3"
    }
  },
  "cells": [
    {
      "cell_type": "markdown",
      "metadata": {
        "id": "view-in-github",
        "colab_type": "text"
      },
      "source": [
        "<a href=\"https://colab.research.google.com/github/brushing-git/Hospital-Readmissions/blob/main/linear_classifiers.ipynb\" target=\"_parent\"><img src=\"https://colab.research.google.com/assets/colab-badge.svg\" alt=\"Open In Colab\"/></a>"
      ]
    },
    {
      "cell_type": "code",
      "metadata": {
        "colab": {
          "base_uri": "https://localhost:8080/"
        },
        "id": "eM3pXn2lSYvw",
        "outputId": "3dcdfe79-d033-4f22-8fec-56877ad30b4a"
      },
      "source": [
        "import torch\n",
        "import numpy as np\n",
        "import pandas as pd\n",
        "import os\n",
        "from torch.utils.data import Dataset, DataLoader\n",
        "from sklearn.metrics import roc_auc_score\n",
        "from scipy.special import softmax\n",
        "import matplotlib.pyplot as plt\n",
        "from google.colab import drive\n",
        "\n",
        "drive.mount(\"/content/drive\", force_remount=True)\n",
        "location = 'drive/Shareddrives/273A/balanced_datasets'\n",
        "X = pd.read_csv(os.path.join(location, 'X_train.csv'))\n",
        "Y = pd.read_csv(os.path.join(location, 'Y_train.csv'))\n",
        "X_int = pd.read_csv(os.path.join(location, 'X_train_integer.csv'))\n",
        "Y_int = pd.read_csv(os.path.join(location, 'Y_train_integer.csv'))"
      ],
      "execution_count": null,
      "outputs": [
        {
          "output_type": "stream",
          "text": [
            "Mounted at /content/drive\n"
          ],
          "name": "stdout"
        }
      ]
    },
    {
      "cell_type": "code",
      "metadata": {
        "id": "dy06WuXvs2z4"
      },
      "source": [
        "# Combine Y with X\n",
        "X['readmitted'] = Y['readmitted']\n",
        "X_int['readmitted'] = Y_int['readmitted']"
      ],
      "execution_count": null,
      "outputs": []
    },
    {
      "cell_type": "code",
      "metadata": {
        "id": "G1Lvq5AxfeJ7"
      },
      "source": [
        "class diabetesDataSet(Dataset):\n",
        "    def __init__(self, data, transform=None, target_transform=None):\n",
        "        self.transform = transform\n",
        "        self.target_transform = target_transform\n",
        "        self.data = data\n",
        "\n",
        "    def __len__(self):\n",
        "        return len(self.data)\n",
        "\n",
        "    def __getitem__(self, idx):\n",
        "        sample = self.data.iloc[idx]  # get the sample\n",
        "        sample = sample.to_numpy()  # convert to numpy\n",
        "        features = sample[:len(sample)-1] # get the features, dropping the first item and the target\n",
        "        target = sample[len(sample)-1] # set the target\n",
        "\n",
        "        if self.transform:\n",
        "            sample = self.transform(features)\n",
        "        if self.target_transform:\n",
        "            target = self.target_transform(target)\n",
        "\n",
        "        return features, target"
      ],
      "execution_count": null,
      "outputs": []
    },
    {
      "cell_type": "code",
      "metadata": {
        "id": "Uz9TP2ZiUbuk"
      },
      "source": [
        "class linearClassifier(torch.nn.Module):\n",
        "    def __init__(self, dim, tar):\n",
        "        super(linearClassifier, self).__init__()\n",
        "        self.layer1 = torch.nn.Linear(dim, tar)\n",
        "        self.activation = torch.nn.Sigmoid()\n",
        "\n",
        "    def forward(self, x):\n",
        "        y1 = self.layer1(x)\n",
        "        return y1\n",
        "\n",
        "def train_step(x, t, classifier, opt_fn, loss_fn):\n",
        "  y = classifier(x.float())\n",
        "  loss = loss_fn(y, t.long())\n",
        "  loss.backward()\n",
        "  opt_fn.step()\n",
        "  opt_fn.zero_grad()\n",
        "  return loss"
      ],
      "execution_count": null,
      "outputs": []
    },
    {
      "cell_type": "code",
      "metadata": {
        "id": "3t4zTwqhvQ6R"
      },
      "source": [
        "dataset1 = diabetesDataSet(X_int, transform=torch.from_numpy, target_transform=None)\n",
        "\n",
        "train_size = round(0.8 * len(X_int))\n",
        "va_size = round(0.2 * len(X_int))\n",
        "\n",
        "tr_set, va_set = torch.utils.data.random_split(dataset1, [train_size, va_size])"
      ],
      "execution_count": null,
      "outputs": []
    },
    {
      "cell_type": "code",
      "metadata": {
        "id": "J8kmDxMKYilZ",
        "colab": {
          "base_uri": "https://localhost:8080/"
        },
        "outputId": "1358a79c-d8a6-4b8f-d63f-5d32bcbe6a8a"
      },
      "source": [
        "tr_loader = torch.utils.data.DataLoader(tr_set, batch_size=100, shuffle=True)\n",
        "va_loader = torch.utils.data.DataLoader(va_set, batch_size=100, shuffle=True)\n",
        "\n",
        "n_features = len(X_int.columns) - 1\n",
        "\n",
        "model = linearClassifier(dim=n_features, tar=2)\n",
        "\n",
        "loss = torch.nn.CrossEntropyLoss()\n",
        "opt = torch.optim.Adam(model.parameters(), lr=1e-3)\n",
        "\n",
        "acc_hist_tr = []\n",
        "acc_hist_va = []\n",
        "\n",
        "for epoch in range(10):\n",
        "  acc_batch = []\n",
        "  model.train()\n",
        "  for x,t in iter(tr_loader):\n",
        "    loss_ = train_step(x, t, model, opt, loss)\n",
        "    y = model(x.float())\n",
        "    acc_batch.append(torch.mean((t == y.argmax(1)).float()))\n",
        "  acc_hist_tr.append(torch.mean(torch.FloatTensor(acc_batch)))\n",
        "  print(loss_)\n",
        "\n",
        "  acc_batch = []\n",
        "  model.eval()\n",
        "  for x,t in iter(va_loader):\n",
        "    y = model(x.float())\n",
        "    acc_batch.append(torch.mean((t == y.argmax(1)).float()))\n",
        "  acc_hist_va.append(torch.mean(torch.FloatTensor(acc_batch)))"
      ],
      "execution_count": null,
      "outputs": [
        {
          "output_type": "stream",
          "text": [
            "tensor(0.5615, grad_fn=<NllLossBackward>)\n",
            "tensor(0.6780, grad_fn=<NllLossBackward>)\n",
            "tensor(0.6416, grad_fn=<NllLossBackward>)\n",
            "tensor(0.7033, grad_fn=<NllLossBackward>)\n",
            "tensor(0.6078, grad_fn=<NllLossBackward>)\n",
            "tensor(0.7248, grad_fn=<NllLossBackward>)\n",
            "tensor(0.6270, grad_fn=<NllLossBackward>)\n",
            "tensor(0.6420, grad_fn=<NllLossBackward>)\n",
            "tensor(0.6978, grad_fn=<NllLossBackward>)\n",
            "tensor(0.6810, grad_fn=<NllLossBackward>)\n"
          ],
          "name": "stdout"
        }
      ]
    },
    {
      "cell_type": "code",
      "metadata": {
        "colab": {
          "base_uri": "https://localhost:8080/",
          "height": 283
        },
        "id": "4C9INF3PG2MX",
        "outputId": "5e563621-7e89-4771-f4b7-ea2095748716"
      },
      "source": [
        "x = [i for i in range(1, 11, 1)]\n",
        "plt.plot(x, acc_hist_tr)\n",
        "plt.plot(x, acc_hist_va)"
      ],
      "execution_count": null,
      "outputs": [
        {
          "output_type": "execute_result",
          "data": {
            "text/plain": [
              "[<matplotlib.lines.Line2D at 0x7f1bb932f630>]"
            ]
          },
          "metadata": {
            "tags": []
          },
          "execution_count": 26
        },
        {
          "output_type": "display_data",
          "data": {
            "image/png": "[encoded data removed]",
            "text/plain": [
              "<Figure size 432x288 with 1 Axes>"
            ]
          },
          "metadata": {
            "tags": [],
            "needs_background": "light"
          }
        }
      ]
    },
    {
      "cell_type": "code",
      "metadata": {
        "id": "7LYXZ8Eo6PnH",
        "colab": {
          "base_uri": "https://localhost:8080/",
          "height": 246
        },
        "outputId": "f68af4f4-441e-42dd-8b49-a346ee60c25d"
      },
      "source": [
        "model.eval()\n",
        "Ytr = []\n",
        "YtrHat = []\n",
        "Yva = []\n",
        "YvaHat = []\n",
        "\n",
        "for i in range(len(tr_set)):\n",
        "  x, y = tr_set[i]\n",
        "  yhat = model(torch.from_numpy(x).float())\n",
        "  yhat = yhat.detach().numpy()\n",
        "  yhat = softmax(yhat)\n",
        "  Ytr.append(y)\n",
        "  YtrHat.append(yhat)\n",
        "\n",
        "for i in range(len(va_set)):\n",
        "  x, y = va_set[i]\n",
        "  yhat = model(torch.from_numpy(x).float())\n",
        "  yhat = yhat.detach().numpy()\n",
        "  yhat = softmax(yhat)\n",
        "  Yva.append(y)\n",
        "  YvaHat.append(yhat)\n",
        "\n",
        "Ytr = np.asarray(Ytr)\n",
        "YtrHat = np.asarray(YtrHat)\n",
        "Yva = np.asarray(Yva)\n",
        "YvaHat = np.asarray(YvaHat)"
      ],
      "execution_count": null,
      "outputs": [
        {
          "output_type": "error",
          "ename": "NameError",
          "evalue": "ignored",
          "traceback": [
            "\u001b[0;31m---------------------------------------------------------------------------\u001b[0m",
            "\u001b[0;31mNameError\u001b[0m                                 Traceback (most recent call last)",
            "\u001b[0;32m<ipython-input-6-36df9e2ac1e0>\u001b[0m in \u001b[0;36m<module>\u001b[0;34m()\u001b[0m\n\u001b[1;32m      2\u001b[0m \u001b[0;32mfrom\u001b[0m \u001b[0mscipy\u001b[0m\u001b[0;34m.\u001b[0m\u001b[0mspecial\u001b[0m \u001b[0;32mimport\u001b[0m \u001b[0msoftmax\u001b[0m\u001b[0;34m\u001b[0m\u001b[0;34m\u001b[0m\u001b[0m\n\u001b[1;32m      3\u001b[0m \u001b[0;34m\u001b[0m\u001b[0m\n\u001b[0;32m----> 4\u001b[0;31m \u001b[0mmodel\u001b[0m\u001b[0;34m.\u001b[0m\u001b[0meval\u001b[0m\u001b[0;34m(\u001b[0m\u001b[0;34m)\u001b[0m\u001b[0;34m\u001b[0m\u001b[0;34m\u001b[0m\u001b[0m\n\u001b[0m\u001b[1;32m      5\u001b[0m \u001b[0mYtr\u001b[0m \u001b[0;34m=\u001b[0m \u001b[0;34m[\u001b[0m\u001b[0;34m]\u001b[0m\u001b[0;34m\u001b[0m\u001b[0;34m\u001b[0m\u001b[0m\n\u001b[1;32m      6\u001b[0m \u001b[0mYtrHat\u001b[0m \u001b[0;34m=\u001b[0m \u001b[0;34m[\u001b[0m\u001b[0;34m]\u001b[0m\u001b[0;34m\u001b[0m\u001b[0;34m\u001b[0m\u001b[0m\n",
            "\u001b[0;31mNameError\u001b[0m: name 'model' is not defined"
          ]
        }
      ]
    },
    {
      "cell_type": "code",
      "metadata": {
        "id": "cPGq2c5y_Pch"
      },
      "source": [
        "def convert_to_1Hot(arr):\n",
        "  arr = arr.astype(int)\n",
        "  shape = (arr.size, arr.max()+1)\n",
        "  one_hot = np.zeros(shape)\n",
        "  rows = np.arange(arr.size)\n",
        "  one_hot[rows, arr] = 1\n",
        "  return one_hot"
      ],
      "execution_count": null,
      "outputs": []
    },
    {
      "cell_type": "code",
      "metadata": {
        "colab": {
          "base_uri": "https://localhost:8080/"
        },
        "id": "vNpDyyy3_Nx7",
        "outputId": "4044cd3b-cb5c-45f5-c3be-e7e6b26176d5"
      },
      "source": [
        "print(\"AUC score on training is \" + str(roc_auc_score(convert_to_1Hot(Ytr), YtrHat)))\n",
        "print(\"AUC score on validation is \" + str(roc_auc_score(convert_to_1Hot(Yva), YvaHat)))"
      ],
      "execution_count": null,
      "outputs": [
        {
          "output_type": "stream",
          "text": [
            "AUC score on training is 0.6600980915701755\n",
            "AUC score on validation is 0.6580066940903508\n"
          ],
          "name": "stdout"
        }
      ]
    },
    {
      "cell_type": "code",
      "metadata": {
        "id": "YlJkLMXEHgIf"
      },
      "source": [
        "dataset2 = diabetesDataSet(X, transform=torch.from_numpy, target_transform=None)\n",
        "\n",
        "train_size = round(0.8 * len(X))\n",
        "va_size = round(0.2 * len(X))\n",
        "\n",
        "tr_set, va_set = torch.utils.data.random_split(dataset2, [train_size, va_size])"
      ],
      "execution_count": null,
      "outputs": []
    },
    {
      "cell_type": "code",
      "metadata": {
        "colab": {
          "base_uri": "https://localhost:8080/"
        },
        "id": "T6WKzz7TI-1l",
        "outputId": "a260a90a-b6fe-4cad-907c-999b2f6c8907"
      },
      "source": [
        "tr_loader = torch.utils.data.DataLoader(tr_set, batch_size=100, shuffle=True)\n",
        "va_loader = torch.utils.data.DataLoader(va_set, batch_size=100, shuffle=True)\n",
        "\n",
        "n_features = len(X.columns) - 1\n",
        "\n",
        "model = linearClassifier(dim=n_features, tar=2)\n",
        "\n",
        "loss = torch.nn.CrossEntropyLoss()\n",
        "opt = torch.optim.Adam(model.parameters(), lr=1e-3)\n",
        "\n",
        "acc_hist_tr = []\n",
        "acc_hist_va = []\n",
        "\n",
        "for epoch in range(10):\n",
        "  acc_batch = []\n",
        "  model.train()\n",
        "  for x,t in iter(tr_loader):\n",
        "    loss_ = train_step(x, t, model, opt, loss)\n",
        "    y = model(x.float())\n",
        "    acc_batch.append(torch.mean((t == y.argmax(1)).float()))\n",
        "  acc_hist_tr.append(torch.mean(torch.FloatTensor(acc_batch)))\n",
        "  print(loss_)\n",
        "\n",
        "  acc_batch = []\n",
        "  model.eval()\n",
        "  for x,t in iter(va_loader):\n",
        "    y = model(x.float())\n",
        "    acc_batch.append(torch.mean((t == y.argmax(1)).float()))\n",
        "  acc_hist_va.append(torch.mean(torch.FloatTensor(acc_batch)))"
      ],
      "execution_count": null,
      "outputs": [
        {
          "output_type": "stream",
          "text": [
            "tensor(0.7318, grad_fn=<NllLossBackward>)\n",
            "tensor(0.6251, grad_fn=<NllLossBackward>)\n",
            "tensor(0.6616, grad_fn=<NllLossBackward>)\n",
            "tensor(0.5829, grad_fn=<NllLossBackward>)\n",
            "tensor(0.6799, grad_fn=<NllLossBackward>)\n",
            "tensor(0.6511, grad_fn=<NllLossBackward>)\n",
            "tensor(0.6397, grad_fn=<NllLossBackward>)\n",
            "tensor(0.7147, grad_fn=<NllLossBackward>)\n",
            "tensor(0.5970, grad_fn=<NllLossBackward>)\n",
            "tensor(0.6959, grad_fn=<NllLossBackward>)\n"
          ],
          "name": "stdout"
        }
      ]
    },
    {
      "cell_type": "code",
      "metadata": {
        "colab": {
          "base_uri": "https://localhost:8080/",
          "height": 283
        },
        "id": "9tJ40y2nJp1V",
        "outputId": "6a697ec7-2ff1-44a4-9301-2879ee08f8f7"
      },
      "source": [
        "x = [i for i in range(1, 11, 1)]\n",
        "plt.plot(x, acc_hist_tr)\n",
        "plt.plot(x, acc_hist_va)"
      ],
      "execution_count": null,
      "outputs": [
        {
          "output_type": "execute_result",
          "data": {
            "text/plain": [
              "[<matplotlib.lines.Line2D at 0x7f0cfe8e1748>]"
            ]
          },
          "metadata": {
            "tags": []
          },
          "execution_count": 15
        },
        {
          "output_type": "display_data",
          "data": {
            "image/png": "[encoded data removed]",
            "text/plain": [
              "<Figure size 432x288 with 1 Axes>"
            ]
          },
          "metadata": {
            "tags": [],
            "needs_background": "light"
          }
        }
      ]
    },
    {
      "cell_type": "code",
      "metadata": {
        "id": "JuIK476CVA9U"
      },
      "source": [
        "def compute_roc(model, tr_set, va_set):\n",
        "  def convert_to_1Hot(arr):\n",
        "    arr = arr.astype(int)\n",
        "    shape = (arr.size, arr.max()+1)\n",
        "    one_hot = np.zeros(shape)\n",
        "    rows = np.arange(arr.size)\n",
        "    one_hot[rows, arr] = 1\n",
        "    return one_hot\n",
        "  \n",
        "  model.cpu()\n",
        "  model.eval()\n",
        "  Ytr = []\n",
        "  YtrHat = []\n",
        "  Yva = []\n",
        "  YvaHat = []\n",
        "\n",
        "  for i in range(len(tr_set)):\n",
        "    x, y = tr_set[i]\n",
        "    yhat = model(torch.from_numpy(x).float())\n",
        "    yhat = yhat.detach().numpy()\n",
        "    yhat = softmax(yhat)\n",
        "    Ytr.append(y)\n",
        "    YtrHat.append(yhat)\n",
        "\n",
        "  for i in range(len(va_set)):\n",
        "    x, y = va_set[i]\n",
        "    yhat = model(torch.from_numpy(x).float())\n",
        "    yhat = yhat.detach().numpy()\n",
        "    yhat = softmax(yhat)\n",
        "    Yva.append(y)\n",
        "    YvaHat.append(yhat)\n",
        "\n",
        "  Ytr = np.asarray(Ytr)\n",
        "  YtrHat = np.asarray(YtrHat)\n",
        "  Yva = np.asarray(Yva)\n",
        "  YvaHat = np.asarray(YvaHat)\n",
        "  auc_tr = roc_auc_score(convert_to_1Hot(Ytr), YtrHat)\n",
        "  auc_va = roc_auc_score(convert_to_1Hot(Yva), YvaHat)\n",
        "  return auc_tr, auc_va"
      ],
      "execution_count": null,
      "outputs": []
    },
    {
      "cell_type": "code",
      "metadata": {
        "colab": {
          "base_uri": "https://localhost:8080/"
        },
        "id": "cjU-YBZYKGkk",
        "outputId": "491e9e0a-05bc-4633-bcdd-f6c86659b7cf"
      },
      "source": [
        "tr_auc, va_auc = compute_roc(model, tr_set, va_set)\n",
        "print(\"AUC score on training is \" + str(tr_auc))\n",
        "print(\"AUC score on validation is \" + str(va_auc))"
      ],
      "execution_count": null,
      "outputs": [
        {
          "output_type": "stream",
          "text": [
            "AUC score on training is 0.6615970443289396\n",
            "AUC score on validation is 0.6599583125358179\n"
          ],
          "name": "stdout"
        }
      ]
    },
    {
      "cell_type": "code",
      "metadata": {
        "colab": {
          "base_uri": "https://localhost:8080/"
        },
        "id": "C4u-37uPUxpa",
        "outputId": "484bda32-ba2d-48c9-cfca-6468749dbe06"
      },
      "source": [
        "X_te = pd.read_csv(os.path.join(location, 'X_test.csv'))\n",
        "Y_te = pd.read_csv(os.path.join(location, 'Y_test.csv'))\n",
        "X_te['readmitted'] = Y_te['readmitted']\n",
        "\n",
        "te_set = diabetesDataSet(X_te, transform=torch.from_numpy, target_transform=None)\n",
        "te_loader = torch.utils.data.DataLoader(te_set, batch_size=100, shuffle=True)\n",
        "\n",
        "acc_batch = []\n",
        "model.cpu()\n",
        "model.eval()\n",
        "for x,t in iter(te_loader):\n",
        "  y = model(x.float())\n",
        "  acc_batch.append(torch.mean((t == y.argmax(1)).float()))\n",
        "\n",
        "acc = torch.mean(torch.FloatTensor(acc_batch))\n",
        "te_auc, va_auc = compute_roc(model, te_set, va_set)\n",
        "print('Accuracy ' + str(acc))\n",
        "print('AUC ' + str(te_auc))"
      ],
      "execution_count": null,
      "outputs": [
        {
          "output_type": "stream",
          "text": [
            "Accuracy tensor(0.6096)\n",
            "AUC 0.654678673442977\n"
          ],
          "name": "stdout"
        }
      ]
    }
  ]
}